{
 "cells": [
  {
   "cell_type": "markdown",
   "metadata": {},
   "source": [
    "### 1.1\n",
    "What is the value of $\\sqrt{2}^{\\sqrt{2}^{{\\sqrt{2}^{...}}}}$?"
   ]
  },
  {
   "cell_type": "markdown",
   "metadata": {},
   "source": [
    "the closed form solution can be found by\n",
    "below is the solution using Python"
   ]
  },
  {
   "cell_type": "code",
   "execution_count": 8,
   "metadata": {
    "collapsed": false
   },
   "outputs": [
    {
     "name": "stdout",
     "output_type": "stream",
     "text": [
      "2.0\n"
     ]
    }
   ],
   "source": [
    "import numpy as ns\n",
    "sum=1\n",
    "for i in range(10000):\n",
    "    sum = ns.sqrt(2)**sum\n",
    "print(sum)"
   ]
  },
  {
   "cell_type": "markdown",
   "metadata": {},
   "source": [
    "### 3.1\n",
    "You have a bag with two coins. One will come up heads 40% of the time, and the other will come up heads 60%. You pick a coin randomly, flip it and get a head. What is the probability it will be heads on the next flip?"
   ]
  },
  {
   "cell_type": "code",
   "execution_count": 16,
   "metadata": {
    "collapsed": false
   },
   "outputs": [],
   "source": [
    "import math\n",
    "import random as rnd\n",
    "coins=list()\n",
    "for i in range(1000):\n",
    "    coin = math.floor(rnd.random()/0.6)\n",
    "    coins.append(coin)\n",
    "print(coins)"
   ]
  },
  {
   "cell_type": "code",
   "execution_count": 47,
   "metadata": {
    "collapsed": false
   },
   "outputs": [
    {
     "ename": "TypeError",
     "evalue": "unsupported operand type(s) for ^: 'float' and 'float'",
     "output_type": "error",
     "traceback": [
      "\u001b[0;31m---------------------------------------------------------------------------\u001b[0m",
      "\u001b[0;31mTypeError\u001b[0m                                 Traceback (most recent call last)",
      "\u001b[0;32m<ipython-input-47-fc44b785a11e>\u001b[0m in \u001b[0;36m<module>\u001b[0;34m()\u001b[0m\n\u001b[1;32m      8\u001b[0m     \u001b[0mcoin2\u001b[0m \u001b[0;34m=\u001b[0m \u001b[0mmath\u001b[0m\u001b[0;34m.\u001b[0m\u001b[0mfloor\u001b[0m\u001b[0;34m(\u001b[0m\u001b[0mrnd\u001b[0m\u001b[0;34m.\u001b[0m\u001b[0mrandom\u001b[0m\u001b[0;34m(\u001b[0m\u001b[0;34m)\u001b[0m\u001b[0;34m/\u001b[0m\u001b[0;36m0.4\u001b[0m\u001b[0;34m)\u001b[0m\u001b[0;34m\u001b[0m\u001b[0m\n\u001b[1;32m      9\u001b[0m     \u001b[0mheads2\u001b[0m \u001b[0;34m+=\u001b[0m \u001b[0mcoin2\u001b[0m\u001b[0;34m\u001b[0m\u001b[0m\n\u001b[0;32m---> 10\u001b[0;31m \u001b[0mproB\u001b[0m\u001b[0;34m=\u001b[0m \u001b[0;36m0.5\u001b[0m\u001b[0;34m*\u001b[0m\u001b[0;34m(\u001b[0m\u001b[0mfloat\u001b[0m\u001b[0;34m(\u001b[0m\u001b[0mheads1\u001b[0m\u001b[0;34m/\u001b[0m\u001b[0mn\u001b[0m\u001b[0;34m)\u001b[0m\u001b[0;34m)\u001b[0m\u001b[0;34m^\u001b[0m\u001b[0;36m2\u001b[0m\u001b[0;34m+\u001b[0m\u001b[0;36m0.5\u001b[0m\u001b[0;34m*\u001b[0m\u001b[0;34m(\u001b[0m\u001b[0mfloat\u001b[0m\u001b[0;34m(\u001b[0m\u001b[0mheads\u001b[0m\u001b[0;34m/\u001b[0m\u001b[0mn\u001b[0m\u001b[0;34m)\u001b[0m\u001b[0;34m)\u001b[0m\u001b[0;34m^\u001b[0m\u001b[0;36m2\u001b[0m\u001b[0;34m\u001b[0m\u001b[0m\n\u001b[0m",
      "\u001b[0;31mTypeError\u001b[0m: unsupported operand type(s) for ^: 'float' and 'float'"
     ]
    }
   ],
   "source": [
    "firstFlipIsAHeadCounter=0\n",
    "secondFlipIsAHeadCounter=0\n",
    "heads1,heads2=0,0\n",
    "proB=0\n",
    "n=100000\n",
    "for i in range(n):\n",
    "    coin1 = math.floor(rnd.random()/0.6)\n",
    "    heads1 += coin1\n",
    "for j in range(n):\n",
    "    coin2 = math.floor(rnd.random()/0.4)\n",
    "    heads2 += coin2\n",
    "proB= 0.5*(float(heads1/n))^2+0.5*(float(heads/n))^2"
   ]
  },
  {
   "cell_type": "code",
   "execution_count": 35,
   "metadata": {
    "collapsed": false
   },
   "outputs": [
    {
     "name": "stdout",
     "output_type": "stream",
     "text": [
      "0.4029034031457509\n"
     ]
    }
   ],
   "source": [
    "heads=0\n",
    "proA,ProTails=0,0\n",
    "for trialCtr in range(100000):\n",
    "    if rnd.random()<0.5:\n",
    "        ProTails=0.6\n",
    "    else:\n",
    "        ProTails=0.4\n",
    "    coin = math.floor(rnd.random()/ProTails)\n",
    "    heads +=coin\n",
    "proA=heads/100000\n",
    "print (proB/proA)"
   ]
  },
  {
   "cell_type": "code",
   "execution_count": 69,
   "metadata": {
    "collapsed": false
   },
   "outputs": [
    {
     "name": "stdout",
     "output_type": "stream",
     "text": [
      "0.5257048092868989 0.603 0.317\n"
     ]
    }
   ],
   "source": [
    "import math\n",
    "import random as rnd\n",
    "heads1,heads2=0,0\n",
    "count=1000\n",
    "for trialCtr in range(count):\n",
    "    if rnd.random()<0.5:\n",
    "        ProTails=0.6 #heads 60% of the time\n",
    "    else:\n",
    "        ProTails=0.4 #heads 40% of the time\n",
    "    coin1 = math.floor(rnd.random()/ProTails) #flip the coin!\n",
    "    heads1 +=coin1\n",
    "    if coin1>0.5:\n",
    "        heads2 +=math.floor(rnd.random()/ProTails)\n",
    "print (heads2/heads1,heads1/count,heads2/count)"
   ]
  },
  {
   "cell_type": "code",
   "execution_count": 75,
   "metadata": {
    "collapsed": false
   },
   "outputs": [
    {
     "name": "stdout",
     "output_type": "stream",
     "text": [
      "0.5190694546466221 0.499621 0.259338\n"
     ]
    }
   ],
   "source": [
    "#Answer\n",
    "def headsOrTrails(ProbTails):\n",
    "    if rnd.random()<ProbTails:\n",
    "        return 0\n",
    "    return 1\n",
    "import math\n",
    "import random as rnd\n",
    "heads1,heads2=0,0\n",
    "count=1000000\n",
    "for trialCtr in range(count):\n",
    "    if rnd.random()<0.5:\n",
    "        ProbTails=0.6 #heads 60% of the time\n",
    "    else:\n",
    "        ProbTails=0.4 #heads 40% of the time\n",
    "    coin1 = headsOrTrails(ProbTails) #flip the coin!\n",
    "    heads1 +=coin1\n",
    "    if coin1>0.5:\n",
    "        heads2 +=headsOrTrails(ProbTails)\n",
    "print (heads2/heads1,heads1/count,heads2/count)"
   ]
  },
  {
   "cell_type": "markdown",
   "metadata": {},
   "source": [
    "### 3.1 Object-oriented version\n",
    "Here we solve the same problem, but introducing objects to Python.\n",
    "\n",
    "A simplistic approach to 00 design is to identify the nouns in the problem decription, and consider those to be potential *classes*. A class is a template, sort of like a cookie cutter for stamping out identical objects, ready for use.\n",
    "\n",
    "In this proble, we see **coin** and **purse** in the problem decription. So let's make them into classes.\n",
    "\n",
    "The *methonds* of a class represent the actions we expect of the objects created from the class."
   ]
  },
  {
   "cell_type": "code",
   "execution_count": 40,
   "metadata": {
    "collapsed": false
   },
   "outputs": [
    {
     "name": "stdout",
     "output_type": "stream",
     "text": [
      "0.5193013415685724 0.49867 0.25896\n"
     ]
    }
   ],
   "source": [
    "import numpy as np\n",
    "class Coin(object):#We capitalize the names of classes.\n",
    "    #define a constructor, so that we can create instances(objects) of coin:\n",
    "    def __init__(self,proHeads):\n",
    "        self.proHeads=proHeads\n",
    "    \n",
    "    def FlipIsHead(self):\n",
    "        return np.random.random()<self.proHeads\n",
    "    \n",
    "    def nextFlipAreHeads(self,n):\n",
    "        for i in range (n):\n",
    "            if not self.FlipIsHead():\n",
    "                return False\n",
    "        return True\n",
    "\n",
    "class CoinBag(object):\n",
    "    def __init__(self):\n",
    "        self.coins=[]\n",
    "    \n",
    "    def addCoin(self,coin):\n",
    "        self.coins.append(coin)\n",
    "    \n",
    "    def pickRandomCoin(self):\n",
    "        return np.random.choice(self.coins)\n",
    "\n",
    "cb = CoinBag()    \n",
    "cb.addCoin(Coin(0.6))\n",
    "cb.addCoin(Coin(0.4))\n",
    "\n",
    "#print(cb.pickRandomCoin().proHeads)\n",
    "\n",
    "heads1,heads2=0,0\n",
    "count=100000\n",
    "for trialCtr in range(count):\n",
    "    randomCoin=cb.pickRandomCoin()\n",
    "    if randomCoin.FlipIsHead():\n",
    "        heads1+=1\n",
    "        if randomCoin.FlipIsHead():\n",
    "            heads2+=1\n",
    "print (heads2/heads1,heads1/count,heads2/count)"
   ]
  },
  {
   "cell_type": "code",
   "execution_count": null,
   "metadata": {
    "collapsed": true
   },
   "outputs": [],
   "source": []
  },
  {
   "cell_type": "markdown",
   "metadata": {},
   "source": [
    "### 3.1\n",
    "In front of you is a jar of 1000 coins. One of the coins has two heads, and the rest are fair coins. You choose a coin at random, and flip it ten times, getting all heads. What is the probability it is one of the fair coins?"
   ]
  },
  {
   "cell_type": "code",
   "execution_count": 38,
   "metadata": {
    "collapsed": false
   },
   "outputs": [
    {
     "name": "stdout",
     "output_type": "stream",
     "text": [
      "0.5061789421651013\n"
     ]
    }
   ],
   "source": [
    "A=1/1000\n",
    "B=999/1000*(0.5**10)\n",
    "print (A/(A+B))"
   ]
  },
  {
   "cell_type": "code",
   "execution_count": 42,
   "metadata": {
    "collapsed": false
   },
   "outputs": [
    {
     "name": "stdout",
     "output_type": "stream",
     "text": [
      "0.4846938775510204\n"
     ]
    }
   ],
   "source": [
    "cb=CoinBag() \n",
    "cb.addCoin(Coin(1))\n",
    "#for i in range(999):\n",
    "#    cb.addCoin(Coin(0.5))\n",
    "\n",
    "[cb.addCoin(Coin(0.5)) for i in range(999)]\n",
    "    \n",
    "count=100000\n",
    "heads1,heads2=0,0\n",
    "for trialCtr in range(count):\n",
    "    randomCoin=cb.pickRandomCoin()\n",
    "    if randomCoin.proHeads==1:\n",
    "        heads1+=1\n",
    "    else:\n",
    "        if randomCoin.nextFlipAreHeads(10)==True:\n",
    "            heads2+=1\n",
    "\n",
    "print(heads2/(heads2+heads1))"
   ]
  },
  {
   "cell_type": "code",
   "execution_count": 43,
   "metadata": {
    "collapsed": false
   },
   "outputs": [
    {
     "name": "stdout",
     "output_type": "stream",
     "text": [
      "0.5148514851485149\n"
     ]
    }
   ],
   "source": [
    "cb=CoinBag() \n",
    "cb.addCoin(Coin(1))\n",
    "[cb.addCoin(Coin(0.5)) for i in range(999)]\n",
    "    \n",
    "count=100000\n",
    "trailCounter,fairCoinCounter=0,0\n",
    "for trialCtr in range(count):\n",
    "    randomCoin=cb.pickRandomCoin()\n",
    "    if randomCoin.nextFlipAreHeads(10):\n",
    "        trailCounter+=1\n",
    "        if randomCoin.proHeads<1:\n",
    "            fairCoinCounter+=1\n",
    "\n",
    "print(fairCoinCounter/trailCounter)"
   ]
  },
  {
   "cell_type": "markdown",
   "metadata": {},
   "source": [
    "### Monte Hall Problem\n",
    "You are a contestant on a game show. You have 3 doors in front of you. Behind two of the doors are goats. Unattractive goats. Behind the other doors is a brand new Tesla. The game show host asks you to choose a door. After you do, he opens one of the remaining doors, and there stands a goat. The game show host asks you if you'd like to switch doors. What do you do?"
   ]
  },
  {
   "cell_type": "code",
   "execution_count": null,
   "metadata": {
    "collapsed": true
   },
   "outputs": [],
   "source": [
    "count=10000\n",
    "for i in range(count):\n",
    "    \n",
    "if switchctr>stayctr:\n",
    "    return Switch\n",
    "return Stay"
   ]
  },
  {
   "cell_type": "markdown",
   "metadata": {},
   "source": [
    "### 3.5\n",
    "Starting at one vertex of a cube, and moving randomly from vertex to adjacent vertices, what is the expected number of moves until you reach the  vertex opposite from your starting point?"
   ]
  },
  {
   "cell_type": "code",
   "execution_count": 4,
   "metadata": {
    "collapsed": false
   },
   "outputs": [
    {
     "name": "stdout",
     "output_type": "stream",
     "text": [
      "4857.38709677\n"
     ]
    }
   ],
   "source": [
    "import random as rnd\n",
    "import numpy\n",
    "counts=list()\n",
    "nums=list()\n",
    "n=1000000\n",
    "m,a=0,0\n",
    "for i in range(n):\n",
    "    if rnd.random()<0.5:\n",
    "        count=1\n",
    "    else:\n",
    "        count=-1\n",
    "    m=m+1\n",
    "    counts.append(count)\n",
    "    if sum(counts[a:a+m])==3:\n",
    "        a=a+m\n",
    "        nums.append(m)\n",
    "        m=0\n",
    "print (numpy.mean(nums))"
   ]
  },
  {
   "cell_type": "code",
   "execution_count": 1,
   "metadata": {
    "collapsed": false
   },
   "outputs": [
    {
     "name": "stdout",
     "output_type": "stream",
     "text": [
      "2\n"
     ]
    }
   ],
   "source": [
    "list=[1,2,3,4,5,6,7,8,9,10]\n",
    "print (sum(list[1:2]))"
   ]
  },
  {
   "cell_type": "markdown",
   "metadata": {},
   "source": [
    "start from A, second step B, third step C, destination D, transaction grap. Take first step to B. Two moves transaction grap only have B and D. Then we could calculate the expected exit moves.(answer:10)"
   ]
  },
  {
   "cell_type": "markdown",
   "metadata": {},
   "source": [
    "### 3.8\n",
    "You have a spinner that generates random numbers that are uniform between 0 and 1. You sum the spins until the sum is greater than one. What is the expected number of spins?"
   ]
  },
  {
   "cell_type": "code",
   "execution_count": 33,
   "metadata": {
    "collapsed": false
   },
   "outputs": [
    {
     "name": "stdout",
     "output_type": "stream",
     "text": [
      "2.71821858827\n"
     ]
    }
   ],
   "source": [
    "import random as rnd\n",
    "import numpy as np\n",
    "nums=list()\n",
    "lenth=list()\n",
    "m,a=0,0\n",
    "count=1000000\n",
    "for i in range(count):\n",
    "    num=rnd.random()\n",
    "    nums.append(num)\n",
    "    m=m+1\n",
    "    while sum(nums[a:a+m])>1:\n",
    "        a=a+m\n",
    "        lenth.append(m)\n",
    "        m=0\n",
    "print (np.mean(lenth))"
   ]
  },
  {
   "cell_type": "code",
   "execution_count": 69,
   "metadata": {
    "collapsed": false
   },
   "outputs": [
    {
     "ename": "TypeError",
     "evalue": "'int' object is not callable",
     "output_type": "error",
     "traceback": [
      "\u001b[0;31m---------------------------------------------------------------------------\u001b[0m",
      "\u001b[0;31mTypeError\u001b[0m                                 Traceback (most recent call last)",
      "\u001b[0;32m<ipython-input-69-aa0118d0e58a>\u001b[0m in \u001b[0;36m<module>\u001b[0;34m()\u001b[0m\n\u001b[1;32m     23\u001b[0m \u001b[0;31m#    num+=Spinner.spinUntilGreaterThanOne()\u001b[0m\u001b[0;34m\u001b[0m\u001b[0;34m\u001b[0m\u001b[0m\n\u001b[1;32m     24\u001b[0m \u001b[0mtrials\u001b[0m\u001b[0;34m=\u001b[0m\u001b[0;34m[\u001b[0m\u001b[0mSpinner\u001b[0m\u001b[0;34m.\u001b[0m\u001b[0mspinUntilGreaterThanOne\u001b[0m\u001b[0;34m(\u001b[0m\u001b[0;34m)\u001b[0m \u001b[0;32mfor\u001b[0m \u001b[0mi\u001b[0m \u001b[0;32min\u001b[0m \u001b[0mrange\u001b[0m\u001b[0;34m(\u001b[0m\u001b[0mcount\u001b[0m\u001b[0;34m)\u001b[0m\u001b[0;34m]\u001b[0m\u001b[0;34m\u001b[0m\u001b[0m\n\u001b[0;32m---> 25\u001b[0;31m \u001b[0mprint\u001b[0m \u001b[0;34m(\u001b[0m\u001b[0mfloat\u001b[0m\u001b[0;34m(\u001b[0m\u001b[0msum\u001b[0m\u001b[0;34m(\u001b[0m\u001b[0mtrials\u001b[0m\u001b[0;34m)\u001b[0m\u001b[0;34m)\u001b[0m\u001b[0;34m/\u001b[0m\u001b[0mcount\u001b[0m\u001b[0;34m)\u001b[0m\u001b[0;34m\u001b[0m\u001b[0m\n\u001b[0m",
      "\u001b[0;31mTypeError\u001b[0m: 'int' object is not callable"
     ]
    }
   ],
   "source": [
    "import numpy as np\n",
    "class Spinner(object):\n",
    "    def __init__(self):\n",
    "        self.total=0\n",
    "        self.spinCtr=0\n",
    "    def spin(self):\n",
    "        self.total+=np.random.random()\n",
    "        self.spinCtr+=1\n",
    "    def reset(self):\n",
    "        self.total=0\n",
    "        self.spinCtr=0\n",
    "    def spinUntilGreaterThanOne(self):\n",
    "        while self.total<1:\n",
    "            self.spin()\n",
    "        answer=self.spinCtr\n",
    "        self.reset()\n",
    "        return answer\n",
    "        \n",
    "    \n",
    "Spinner=Spinner()\n",
    "num,count=0,100\n",
    "#for i in range(count):\n",
    "#    num+=Spinner.spinUntilGreaterThanOne()\n",
    "trials=[Spinner.spinUntilGreaterThanOne() for i in range(count)]\n",
    "print (float(sum(trials))/count)"
   ]
  },
  {
   "cell_type": "code",
   "execution_count": 75,
   "metadata": {
    "collapsed": false
   },
   "outputs": [
    {
     "data": {
      "text/plain": [
       "(array([ 0.5625,  0.525 ,  0.1125,  0.025 ,  0.025 ]),\n",
       " array([ 2. ,  2.8,  3.6,  4.4,  5.2,  6. ]),\n",
       " <a list of 5 Patch objects>)"
      ]
     },
     "execution_count": 75,
     "metadata": {},
     "output_type": "execute_result"
    }
   ],
   "source": [
    "#pylab inline \n",
    "#need this to get figure to appear in Jupyter\n",
    "import matplotlib.pyplot as plt\n",
    "numbin=max(trials)-min(trials)+1\n",
    "bynBins=0\n",
    "plt.hist(trials,bins=numbin,normed=True,align='left',width=0.3)"
   ]
  },
  {
   "cell_type": "markdown",
   "metadata": {},
   "source": [
    "### 4.4\n",
    "You have a basket of $n$ assets. The asset returns are multivariate normal with zero mean. Correlation between any pair of assets is 1/2. What is the probability that $k$ of the assets will have positive return?"
   ]
  },
  {
   "cell_type": "code",
   "execution_count": 73,
   "metadata": {
    "collapsed": false
   },
   "outputs": [
    {
     "name": "stdout",
     "output_type": "stream",
     "text": [
      "Enter the number of assets: 50\n",
      "Enter the number of assets with positive return: 25\n",
      "0.11097\n"
     ]
    }
   ],
   "source": [
    "#correlation?\n",
    "n = int(input(\"Enter the number of assets: \"))\n",
    "k = int(input(\"Enter the number of assets with positive return: \"))\n",
    "import random as rnd\n",
    "import numpy as np\n",
    "counts=list()\n",
    "corr=np.ones((n,n))*0.5\n",
    "#cov=\n",
    "nums=100000\n",
    "num=0\n",
    "for j in range(nums):\n",
    "    m=0\n",
    "    returns=list()\n",
    "    for i in range(n):\n",
    "        returns.append(rnd.gauss(0,1))\n",
    "        if returns[i]>0:\n",
    "            m +=1\n",
    "    if m==k:\n",
    "        num+=1\n",
    "pro=num/nums\n",
    "print (pro)\n"
   ]
  },
  {
   "cell_type": "code",
   "execution_count": null,
   "metadata": {
    "collapsed": false
   },
   "outputs": [],
   "source": []
  },
  {
   "cell_type": "markdown",
   "metadata": {},
   "source": [
    "### 3.10\n",
    "A stick is broken randomly into 3 pieces. What is the probability of the pieces being able to form a triangle?"
   ]
  },
  {
   "cell_type": "code",
   "execution_count": 78,
   "metadata": {
    "collapsed": false
   },
   "outputs": [
    {
     "name": "stdout",
     "output_type": "stream",
     "text": [
      "0.19423\n"
     ]
    }
   ],
   "source": [
    "import random as rnd\n",
    "n=100000\n",
    "count=0\n",
    "for i in range(n):\n",
    "    a=rnd.random()\n",
    "    b=rnd.random()*(1-a)\n",
    "    c=1-a-b\n",
    "    if a+b>c and a+c>b and b+c>a:\n",
    "        count+=1\n",
    "pro=count/n\n",
    "print (pro)"
   ]
  },
  {
   "cell_type": "markdown",
   "metadata": {},
   "source": [
    "### 3.11\n",
    "A stick is broken randomly into two pieces. The larger piece is then broken randomly into two pieces. What is the probability of the pieces being able to form a triangle?"
   ]
  },
  {
   "cell_type": "code",
   "execution_count": 81,
   "metadata": {
    "collapsed": false
   },
   "outputs": [
    {
     "name": "stdout",
     "output_type": "stream",
     "text": [
      "0.38415\n"
     ]
    }
   ],
   "source": [
    "import random as rnd\n",
    "n=100000\n",
    "count=0\n",
    "for i in range(n):\n",
    "    p=rnd.random()\n",
    "    a=max(p,1-p)\n",
    "    b=min(p,1-p)\n",
    "    c=rnd.random()*a\n",
    "    d=a-c\n",
    "    if d+b>c and d+c>b and b+c>d:\n",
    "        count+=1\n",
    "pro=count/n\n",
    "print (pro)"
   ]
  },
  {
   "cell_type": "markdown",
   "metadata": {},
   "source": [
    "### 5.10\n",
    "Suppose there are 36 students in the QFRM program, each assigned a unique integer from 1 to 36. Thirty-six quarters are laid out on a table in a row, heads up. Each student goes to the table, and if they are assigned the number $n$, they turn over the $n$th coin, the $2n$th coin, and so on. So, for example, the student who is assigned 15 will turn over the 15th and 30th coins. When everyone is done, how many tails are showing?"
   ]
  },
  {
   "cell_type": "code",
   "execution_count": 39,
   "metadata": {
    "collapsed": false
   },
   "outputs": [
    {
     "name": "stdout",
     "output_type": "stream",
     "text": [
      "6\n"
     ]
    }
   ],
   "source": [
    "n=0\n",
    "counts=list()\n",
    "for i in range(1,37): #number of coins\n",
    "    counts.append(0)\n",
    "    for j in range(1,37): #number of students\n",
    "        if i%j==0:\n",
    "            counts[i-1] += 1\n",
    "    if counts[i-1]%2 != 0:\n",
    "        n +=1\n",
    "print(n)"
   ]
  },
  {
   "cell_type": "code",
   "execution_count": 42,
   "metadata": {
    "collapsed": false
   },
   "outputs": [
    {
     "name": "stdout",
     "output_type": "stream",
     "text": [
      "6\n"
     ]
    }
   ],
   "source": [
    "import numpy as np\n",
    "n=0\n",
    "counts=np.zeros(36)\n",
    "for i in range(1,37): #number of coins\n",
    "    for j in range(1,37): #number of students\n",
    "        if i%j==0:\n",
    "            counts[i-1] += 1\n",
    "    if counts[i-1]%2 != 0:\n",
    "        n +=1\n",
    "print(n)"
   ]
  },
  {
   "cell_type": "code",
   "execution_count": null,
   "metadata": {
    "collapsed": true
   },
   "outputs": [],
   "source": []
  }
 ],
 "metadata": {
  "kernelspec": {
   "display_name": "Python 3",
   "language": "python",
   "name": "python3"
  },
  "language_info": {
   "codemirror_mode": {
    "name": "ipython",
    "version": 3
   },
   "file_extension": ".py",
   "mimetype": "text/x-python",
   "name": "python",
   "nbconvert_exporter": "python",
   "pygments_lexer": "ipython3",
   "version": "3.5.1"
  }
 },
 "nbformat": 4,
 "nbformat_minor": 0
}
